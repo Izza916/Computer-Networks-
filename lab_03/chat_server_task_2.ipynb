{
 "cells": [
  {
   "cell_type": "code",
   "execution_count": null,
   "id": "f8ea2a01-ecce-43ba-aaba-0042ce64bcda",
   "metadata": {},
   "outputs": [
    {
     "name": "stdout",
     "output_type": "stream",
     "text": [
      "Chat server is listening on port 10000...\n",
      "New connection from ('127.0.0.1', 52687)\n",
      "New connection from ('127.0.0.1', 52688)\n",
      "New connection from ('127.0.0.1', 52690)\n",
      "Connection from ('127.0.0.1', 52690) closed.\n",
      "New connection from ('127.0.0.1', 52744)\n",
      "New connection from ('127.0.0.1', 52745)\n",
      "New connection from ('127.0.0.1', 52746)\n"
     ]
    }
   ],
   "source": [
    "import socket\n",
    "import threading\n",
    "\n",
    "clients = {}  \n",
    "def broadcast(message, sender_socket):\n",
    "    for client_socket in clients:\n",
    "        if client_socket != sender_socket:\n",
    "            try:\n",
    "                client_socket.send(message.encode())\n",
    "            except:\n",
    "                del clients[client_socket]\n",
    "\n",
    "def handle_client(client_socket, addr):\n",
    "    print(f\"New connection from {addr}\")\n",
    "    clients[client_socket] = addr  \n",
    "\n",
    "    while True:\n",
    "        try:\n",
    "            message = client_socket.recv(1024).decode()\n",
    "            if not message:\n",
    "                break\n",
    "\n",
    "            if message.startswith(\"@\"):\n",
    "                target_client_id, private_message = message.split(\" \", 1)\n",
    "                target_client_id = target_client_id[1:]  \n",
    "                for sock, addr in clients.items():\n",
    "                    if str(addr[1]) == target_client_id: \n",
    "                        sock.send(f\"(Private) {addr}: {private_message}\".encode())\n",
    "                        break\n",
    "            else:\n",
    "                broadcast(f\"{addr}: {message}\", client_socket)\n",
    "\n",
    "        except:\n",
    "            break\n",
    "\n",
    "    del clients[client_socket]\n",
    "    client_socket.close()\n",
    "    print(f\"Connection from {addr} closed.\")\n",
    "\n",
    "def start_chat_server():\n",
    "    server_socket = socket.socket(socket.AF_INET, socket.SOCK_STREAM)\n",
    "    server_socket.bind(('localhost', 10000))  \n",
    "    server_socket.listen(5)  \n",
    "    print(\"Chat server is listening on port 10000...\")\n",
    "\n",
    "    while True:\n",
    "        client_socket, addr = server_socket.accept() \n",
    "        threading.Thread(target=handle_client, args=(client_socket, addr)).start()\n",
    "\n",
    "if __name__ == \"__main__\":\n",
    "    start_chat_server()"
   ]
  },
  {
   "cell_type": "code",
   "execution_count": null,
   "id": "07d0adc5-35f3-4947-8dd6-eff3cb3614f1",
   "metadata": {},
   "outputs": [],
   "source": []
  }
 ],
 "metadata": {
  "kernelspec": {
   "display_name": "Python 3 (ipykernel)",
   "language": "python",
   "name": "python3"
  },
  "language_info": {
   "codemirror_mode": {
    "name": "ipython",
    "version": 3
   },
   "file_extension": ".py",
   "mimetype": "text/x-python",
   "name": "python",
   "nbconvert_exporter": "python",
   "pygments_lexer": "ipython3",
   "version": "3.12.7"
  }
 },
 "nbformat": 4,
 "nbformat_minor": 5
}
