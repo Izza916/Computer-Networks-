{
 "cells": [
  {
   "cell_type": "code",
   "execution_count": null,
   "id": "0182eac0-81cf-41d2-a2ce-966e4adea547",
   "metadata": {},
   "outputs": [
    {
     "name": "stdin",
     "output_type": "stream",
     "text": [
      " CN Lab 03 - Tasks\n"
     ]
    },
    {
     "name": "stdout",
     "output_type": "stream",
     "text": [
      "('127.0.0.1', 52688): CN Lab 03 - Tasks\n",
      "('127.0.0.1', 52744): CN Lab 03 - Tasks\n",
      "('127.0.0.1', 52745): CN Lab 03 - Tasks\n",
      "('127.0.0.1', 52746):  CN Lab 03 - Tasks\n"
     ]
    }
   ],
   "source": [
    "import socket\n",
    "import threading\n",
    "\n",
    "def receive_messages(client_socket):\n",
    "    while True:\n",
    "        try:\n",
    "            message = client_socket.recv(1024).decode()\n",
    "            print(message)\n",
    "        except:\n",
    "            print(\"Disconnected from the server.\")\n",
    "            break\n",
    "\n",
    "def start_client():\n",
    "    client_socket = socket.socket(socket.AF_INET, socket.SOCK_STREAM)\n",
    "    client_socket.connect(('localhost', 10000))  \n",
    "\n",
    "    threading.Thread(target=receive_messages, args=(client_socket,)).start()\n",
    "\n",
    "    while True:\n",
    "        message = input()\n",
    "        if message.lower() == \"exit\":\n",
    "            break\n",
    "        client_socket.send(message.encode())\n",
    "\n",
    "    client_socket.close()\n",
    "\n",
    "if __name__ == \"__main__\":\n",
    "    start_client()"
   ]
  },
  {
   "cell_type": "code",
   "execution_count": null,
   "id": "27c6f4af-fe2c-45da-a86e-c5e70c27301a",
   "metadata": {},
   "outputs": [],
   "source": []
  }
 ],
 "metadata": {
  "kernelspec": {
   "display_name": "Python 3 (ipykernel)",
   "language": "python",
   "name": "python3"
  },
  "language_info": {
   "codemirror_mode": {
    "name": "ipython",
    "version": 3
   },
   "file_extension": ".py",
   "mimetype": "text/x-python",
   "name": "python",
   "nbconvert_exporter": "python",
   "pygments_lexer": "ipython3",
   "version": "3.12.7"
  }
 },
 "nbformat": 4,
 "nbformat_minor": 5
}
