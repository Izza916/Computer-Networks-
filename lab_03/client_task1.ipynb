{
 "cells": [
  {
   "cell_type": "code",
   "execution_count": 3,
   "id": "392be410-9dfc-4ddf-bbed-d8d40c0005f0",
   "metadata": {},
   "outputs": [
    {
     "name": "stdin",
     "output_type": "stream",
     "text": [
      "Enter the file name to send:  CN Lab 03 - Tasks\n"
     ]
    },
    {
     "name": "stdout",
     "output_type": "stream",
     "text": [
      "File CN Lab 03 - Tasks sent successfully.\n"
     ]
    }
   ],
   "source": [
    "import socket\n",
    "\n",
    "def send_file(file_name):\n",
    "    client_socket = socket.socket(socket.AF_INET, socket.SOCK_STREAM)\n",
    "    client_socket.connect(('localhost', 9999)) \n",
    "    \n",
    "    client_socket.send(file_name.encode())\n",
    "\n",
    "    with open(file_name, 'rb') as file:\n",
    "        while True:\n",
    "            data = file.read(1024)\n",
    "            if not data:\n",
    "                break\n",
    "            client_socket.send(data)\n",
    "\n",
    "    print(f\"File {file_name} sent successfully.\")\n",
    "    client_socket.close()\n",
    "\n",
    "if __name__ == \"__main__\":\n",
    "    file_name = input(\"Enter the file name to send: \")\n",
    "    send_file(file_name)"
   ]
  },
  {
   "cell_type": "code",
   "execution_count": null,
   "id": "f280978f-9e8b-47f2-8dab-2296670ecdf9",
   "metadata": {},
   "outputs": [],
   "source": []
  }
 ],
 "metadata": {
  "kernelspec": {
   "display_name": "Python 3 (ipykernel)",
   "language": "python",
   "name": "python3"
  },
  "language_info": {
   "codemirror_mode": {
    "name": "ipython",
    "version": 3
   },
   "file_extension": ".py",
   "mimetype": "text/x-python",
   "name": "python",
   "nbconvert_exporter": "python",
   "pygments_lexer": "ipython3",
   "version": "3.12.7"
  }
 },
 "nbformat": 4,
 "nbformat_minor": 5
}
