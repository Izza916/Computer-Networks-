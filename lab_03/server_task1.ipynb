{
 "cells": [
  {
   "cell_type": "code",
   "execution_count": null,
   "id": "e567cd54-6123-4618-924d-d888c7a43be8",
   "metadata": {},
   "outputs": [
    {
     "name": "stdout",
     "output_type": "stream",
     "text": [
      "Server is listening on port 9999...\n",
      "Connection established with ('127.0.0.1', 50758)\n",
      "Receiving file: CN Lab 03 - Tasks\n",
      "File CN Lab 03 - Tasks received successfully.\n"
     ]
    }
   ],
   "source": [
    "import socket\n",
    "\n",
    "def start_server():\n",
    "    server_socket = socket.socket(socket.AF_INET, socket.SOCK_STREAM)\n",
    "    server_socket.bind(('localhost', 9999))  \n",
    "    server_socket.listen(5)  \n",
    "    print(\"Server is listening on port 9999...\")\n",
    "\n",
    "    while True:\n",
    "        client_socket, addr = server_socket.accept() \n",
    "        print(f\"Connection established with {addr}\")\n",
    "\n",
    "        file_name = client_socket.recv(1024).decode()\n",
    "        print(f\"Receiving file: {file_name}\")\n",
    "\n",
    "        with open(file_name, 'wb') as file:\n",
    "            while True:\n",
    "                data = client_socket.recv(1024)\n",
    "                if not data:\n",
    "                    break\n",
    "                file.write(data)\n",
    "\n",
    "        print(f\"File {file_name} received successfully.\")\n",
    "        client_socket.close()\n",
    "\n",
    "if __name__ == \"__main__\":\n",
    "    start_server()"
   ]
  },
  {
   "cell_type": "code",
   "execution_count": null,
   "id": "03c36e8b-a1ed-468d-a8d7-d8cc980d25c3",
   "metadata": {},
   "outputs": [],
   "source": []
  }
 ],
 "metadata": {
  "kernelspec": {
   "display_name": "Python 3 (ipykernel)",
   "language": "python",
   "name": "python3"
  },
  "language_info": {
   "codemirror_mode": {
    "name": "ipython",
    "version": 3
   },
   "file_extension": ".py",
   "mimetype": "text/x-python",
   "name": "python",
   "nbconvert_exporter": "python",
   "pygments_lexer": "ipython3",
   "version": "3.12.7"
  }
 },
 "nbformat": 4,
 "nbformat_minor": 5
}
